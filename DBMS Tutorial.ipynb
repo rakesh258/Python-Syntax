{
 "cells": [
  {
   "cell_type": "code",
   "execution_count": null,
   "metadata": {},
   "outputs": [],
   "source": [
    "FUNCTIONAL DEPENDENCY:\n",
    "    \n",
    "--->Trivial Vs Non Trivial Functional Dependency  \n",
    "\n",
    "Trivial----> If a functional dependency (FD) X → Y holds,\n",
    "where Y is a subset of X, then it is called a trivial FD. \n",
    "Trivial FDs always hold. \n",
    "\n",
    "AB---->A\n",
    "\n",
    "Non-trivial---->If an FD X → Y holds, \n",
    "where Y is not a subset of X, \n",
    "then it is called a non-trivial FD.\n",
    "\n",
    "AB--->ABC\n"
   ]
  },
  {
   "cell_type": "code",
   "execution_count": null,
   "metadata": {},
   "outputs": [],
   "source": [
    "TABLE-1\n",
    "\n",
    "A    B     C     D\n",
    "1    a     x\n",
    "2    b     y\n",
    "3    b     x\n",
    "4    c     y"
   ]
  },
  {
   "cell_type": "code",
   "execution_count": null,
   "metadata": {},
   "outputs": [],
   "source": [
    "SUPER KEY: The set of attributes which can uniquely identify a tuple is known as Super Key.\n",
    "   \n",
    "A---->BC\n",
    "BC--->A  \n",
    "#Both are super key or key."
   ]
  },
  {
   "cell_type": "code",
   "execution_count": null,
   "metadata": {},
   "outputs": [],
   "source": [
    "CANDIDATE KEY: The minimal set of attribute which can uniquely identify a tuple is known\n",
    "as candidate key.\n",
    "\n",
    "R(ABCD)\n",
    "\n",
    "           SUPER KEY     CANDIDATE KEY\n",
    "A-->BCD     YES            YES\n",
    "AB-->CD     YES            NO\n",
    "ABC-->D     YES            NO\n",
    "BD--->AB    YES            YES #Is SINGLE B IS SUPER KEY-->NO,IS SINGLE D IS SUPER KEY-->NO SO IT IS CANDIDATE KEY.\n",
    "C--->AD     YES            NO"
   ]
  },
  {
   "cell_type": "code",
   "execution_count": null,
   "metadata": {},
   "outputs": [],
   "source": [
    "PRIMARY KEY: There can be more than one candidate key in a relation out of which one can be\n",
    "chosen as primary key.\n",
    "\n",
    "-->IN R(ABCD) There are two candidate key but data base administration can chose only one candidate key that \n",
    "is primary key.\n",
    "  \n",
    "    "
   ]
  },
  {
   "cell_type": "code",
   "execution_count": null,
   "metadata": {},
   "outputs": [],
   "source": [
    "FOREIGN KEY: A foreign key are attributes in a table, whose values match as a primary key in another table.\n",
    "    \n",
    "When we take primary key attributes from 2 table, it will become foreign key for 1 table.      "
   ]
  },
  {
   "cell_type": "code",
   "execution_count": null,
   "metadata": {},
   "outputs": [],
   "source": [
    "NORMALIZATION:\n",
    "    \n",
    "It is the process of organising data into a database to avoid :-\n",
    "\n",
    "1.Redundancy\n",
    "Redundancy in relation may cause :-\n",
    "a.Insertion Anamoly\n",
    "b.Updation Anamoly\n",
    "c.Deletion Anamoly\n",
    "\n"
   ]
  },
  {
   "cell_type": "code",
   "execution_count": null,
   "metadata": {},
   "outputs": [],
   "source": [
    "          STUDENT INFO\n",
    "    S_ID    NAME      AGE        BRANCH   HOD_NAME\n",
    "    1        A        18          CS      XYZ\n",
    "    2        B        19          CS      XYZ\n",
    "    3        C        18          CS      XYZ\n",
    "    4        D        18          ME      PQR\n",
    "    5        E        18          EC      ABC\n",
    "    6        F        18          CS      XYZ\n",
    "    "
   ]
  },
  {
   "cell_type": "code",
   "execution_count": null,
   "metadata": {},
   "outputs": [],
   "source": [
    "1.Redundancy: When same data stored multiple times unnercessarily in database.\n",
    "    suppose in branch cs is repeated three times.\n",
    "    \n",
    "Redundancy in relation may cause:- \n",
    "\n",
    "a.Insertion Anamoly: When certain data (attributes) cannot be inserted into database, without the presence of other\n",
    "    data. suppose we want to insert data in branch but we cannot insert data into branch because its depend on\n",
    "    s_id(student enrolled) if there present s_id then we can insert data in Branch.\n",
    "\n",
    "b.Deletion Anamoly: If we delete some data(wanted) it cause deletion of some other data(wanted).\n",
    "    \n",
    "c.Updation Anamoly:When we want to change single piece of data but its must be done in all copies data.\n",
    "    Suppose we only want to change HOD_NAME of s_id 1 but it can change s_id 2,3,6 also. \n",
    "    "
   ]
  },
  {
   "cell_type": "markdown",
   "metadata": {},
   "source": [
    "# 1 NF"
   ]
  },
  {
   "cell_type": "code",
   "execution_count": null,
   "metadata": {},
   "outputs": [],
   "source": [
    "### Each coloum must have a single attribute.\n",
    "\n",
    "id   item   colour\n",
    "1     A      Green, Blue, Red\n",
    "2     B      Pink, Orange\n",
    "\n",
    "## Not in 1 NF. Colour column has multiple attribute."
   ]
  },
  {
   "cell_type": "code",
   "execution_count": null,
   "metadata": {},
   "outputs": [],
   "source": [
    "id   item   colour\n",
    "1     A      Green\n",
    "1     A      Blue\n",
    "1     A      Red\n",
    "2     B      Pink\n",
    "2     B      Orange"
   ]
  },
  {
   "cell_type": "markdown",
   "metadata": {},
   "source": [
    "# 2 NF\n",
    "\n",
    "A relation in a Relational Database is always and at least in 1NF form."
   ]
  },
  {
   "cell_type": "code",
   "execution_count": null,
   "metadata": {},
   "outputs": [],
   "source": [
    "Rest in copy.\n"
   ]
  },
  {
   "cell_type": "markdown",
   "metadata": {},
   "source": [
    "# WHERE Clause  "
   ]
  },
  {
   "cell_type": "code",
   "execution_count": null,
   "metadata": {},
   "outputs": [],
   "source": [
    "The WHERE clause is used to filter records.\n",
    "\n",
    "The WHERE clause is used to extract only those records that fulfill a specified condition.\n",
    "\n",
    "NOTE: The WHERE clause is not only used in SELECT statement, it is also used in UPDATE, DELETE statement, etc.!\n",
    "    \n",
    "SELECT column1, column2, ...\n",
    "FROM table_name\n",
    "WHERE condition;\n",
    "\n",
    "SELECT * FROM Customers\n",
    "WHERE Country='Mexico';\n"
   ]
  },
  {
   "cell_type": "markdown",
   "metadata": {},
   "source": [
    "# ORDER BY Keyword"
   ]
  },
  {
   "cell_type": "code",
   "execution_count": null,
   "metadata": {},
   "outputs": [],
   "source": [
    "The ORDER BY keyword is used to sort the result-set in ascending or descending order.\n",
    "\n",
    "The ORDER BY keyword sorts the records in ascending order by default. To sort the records\n",
    "in descending order, use the DESC keyword.\n",
    "\n",
    "ORDER BY Syntax:\n",
    "    \n",
    "SELECT column1, column2, ...\n",
    "FROM table_name\n",
    "ORDER BY column1, column2, ... ASC|DESC;\n",
    "\n",
    "SELECT * FROM Customers\n",
    "ORDER BY Country;\n",
    "\n",
    "SELECT * FROM Customers\n",
    "ORDER BY Country DESC;\n"
   ]
  },
  {
   "cell_type": "markdown",
   "metadata": {},
   "source": [
    "# GROUP BY Statement"
   ]
  },
  {
   "cell_type": "code",
   "execution_count": null,
   "metadata": {},
   "outputs": [],
   "source": [
    "The GROUP BY statement is often used with aggregate functions (COUNT, MAX, MIN, SUM, AVG) to group \n",
    "the result-set by one or more columns.\n",
    "\n",
    "Important Points:\n",
    "\n",
    "GROUP BY clause is used with the SELECT statement.\n",
    "In the query, GROUP BY clause is placed after the WHERE clause.\n",
    "In the query, GROUP BY clause is placed before ORDER BY clause if used any.\n",
    "\n",
    "\n",
    "GROUP BY Syntax:\n",
    "    \n",
    "SELECT column_name(s)\n",
    "FROM table_name\n",
    "WHERE condition\n",
    "GROUP BY column_name(s)\n",
    "ORDER BY column_name(s);\n",
    "\n",
    "The following SQL statement lists the number of customers in each country:\n",
    "\n",
    "Example\n",
    "SELECT COUNT(CustomerID), Country\n",
    "FROM Customers\n",
    "GROUP BY Country;\n",
    "\n",
    "The following SQL statement lists the number of customers in each country, sorted high to low:\n",
    "\n",
    "Example\n",
    "SELECT COUNT(CustomerID), Country\n",
    "FROM Customers\n",
    "GROUP BY Country\n",
    "ORDER BY COUNT(CustomerID) DESC;\n"
   ]
  },
  {
   "cell_type": "markdown",
   "metadata": {},
   "source": [
    "# HAVING Clause"
   ]
  },
  {
   "cell_type": "code",
   "execution_count": null,
   "metadata": {},
   "outputs": [],
   "source": [
    "We know that WHERE clause is used to place conditions on columns but what if we want to place conditions on groups?\n",
    "\n",
    "This is where HAVING clause comes into use. We can use HAVING clause to place conditions to decide which group \n",
    "will be the part of final result-set. Also we can not use the aggregate functions like SUM(), COUNT() etc \n",
    "with WHERE clause. So we have to use HAVING clause if we want to use any of these functions in the conditions.\n",
    "\n",
    "Syntax:\n",
    "\n",
    "SELECT column1, function_name(column2)\n",
    "FROM table_name\n",
    "WHERE condition\n",
    "GROUP BY column1, column2\n",
    "HAVING condition\n",
    "ORDER BY column1, column2;\n",
    "\n",
    "function_name: Name of the function used for example, SUM() , AVG().\n",
    "table_name: Name of the table.\n",
    "condition: Condition used.\n",
    "   \n",
    "Example:\n",
    "\n",
    "SELECT NAME, SUM(SALARY) FROM Employee \n",
    "GROUP BY NAME\n",
    "HAVING SUM(SALARY)>3000; \n",
    "\n",
    "    "
   ]
  },
  {
   "cell_type": "markdown",
   "metadata": {},
   "source": [
    "# JOIN\n"
   ]
  },
  {
   "cell_type": "code",
   "execution_count": null,
   "metadata": {},
   "outputs": [],
   "source": [
    "A SQL Join statement is used to combine data or rows from two or more tables based on a common\n",
    "field between them.\n",
    "Different types of Joins are:\n",
    "\n",
    "INNER JOIN\n",
    "LEFT JOIN\n",
    "RIGHT JOIN\n",
    "FULL JOIN\n",
    "\n",
    "         Student\n",
    "    \n",
    "ROLL_NO     NAME      ADDRESS  \n",
    "1           RAM         BIHAR\n",
    "2           SHYAM       DELHI\n",
    "3           HARI        BIHAR\n",
    "4           JOHN        UP\n",
    "5           MAC         KOLKATA\n",
    "6           BOB         MUMBAI\n",
    "7           LUSE        PATNA\n",
    "      StudentCourse\n",
    "    \n",
    "COURSE_ID        ROLL_NO\n",
    "102               1\n",
    "123               2\n",
    "456               3\n",
    "234               4\n",
    "987               5\n",
    "143               6\n",
    "104               9\n",
    "\n"
   ]
  },
  {
   "cell_type": "markdown",
   "metadata": {},
   "source": [
    "# INNER JOIN:\n",
    "\n",
    "INNER JOIN: The INNER JOIN keyword selects all rows from both the tables as long as the condition satisfies.\n",
    "This keyword will create the result-set by combining all rows from both the tables\n",
    "where the condition satisfies i.e value of the common field will be same.\n",
    "\n",
    "Syntax:\n",
    "    \n",
    "SELECT table1.column1,table1.column2,table2.column1,....\n",
    "FROM table1 \n",
    "INNER JOIN table2\n",
    "ON table1.matching_column = table2.matching_column;\n",
    "\n",
    "\n",
    "table1: First table.\n",
    "table2: Second table\n",
    "matching_column: Column common to both the tables.\n",
    "Note: We can also write JOIN instead of INNER JOIN. JOIN is same as INNER JOIN.\n",
    "\n",
    "SELECT StudentCourse.COURSE_ID, Student.NAME FROM Student\n",
    "INNER JOIN StudentCourse\n",
    "ON Student.ROLL_NO = StudentCourse.ROLL_NO;\n",
    "\n"
   ]
  },
  {
   "cell_type": "markdown",
   "metadata": {},
   "source": [
    "# LEFT JOIN: \n",
    "\n",
    "This join returns all the rows of the table on the left side of the join and matching rows for the table on the right side of join. The rows for which there is no matching row on right side, the result-set will contain null. LEFT JOIN is also known as LEFT OUTER JOIN.\n",
    "\n",
    "Syntax:\n",
    "\n",
    "SELECT table1.column1,table1.column2,table2.column1,....\n",
    "FROM table1 \n",
    "LEFT JOIN table2\n",
    "ON table1.matching_column = table2.matching_column;\n",
    "\n",
    "\n",
    "table1: First table.\n",
    "table2: Second table\n",
    "matching_column: Column common to both the tables.\n",
    "\n",
    "\n",
    "\n",
    "SELECT Student.NAME,StudentCourse.COURSE_ID \n",
    "FROM Student\n",
    "LEFT JOIN StudentCourse \n",
    "ON StudentCourse.ROLL_NO = Student.ROLL_NO;\n",
    " \n",
    "   OUTPUT\n",
    "\n",
    "NAME        COURSE_ID\n",
    "RAM           102 \n",
    "SHYAM         156\n",
    "HARI          456\n",
    "JOHN          234\n",
    "MAC           987\n",
    "BOB           143\n",
    "LUSE          NULL"
   ]
  },
  {
   "cell_type": "markdown",
   "metadata": {},
   "source": [
    " # RIGHT JOIN:\n",
    "\n",
    "RIGHT JOIN: RIGHT JOIN is similar to LEFT JOIN. This join returns all the rows of the table on the right side of the join and matching rows for the table on the left side of join. The rows for which there is no matching row on left side, the result-set will contain null. RIGHT JOIN is also known as RIGHT OUTER JOIN.\n",
    "Syntax:\n",
    "\n",
    "SELECT table1.column1,table1.column2,table2.column1,....\n",
    "FROM table1 \n",
    "RIGHT JOIN table2\n",
    "ON table1.matching_column = table2.matching_column;\n",
    "\n",
    "\n",
    "table1: First table.\n",
    "table2: Second table\n",
    "matching_column: Column common to both the tables.\n",
    "\n",
    "SELECT Student.NAME,StudentCourse.COURSE_ID \n",
    "FROM Student\n",
    "RIGHT JOIN StudentCourse \n",
    "ON StudentCourse.ROLL_NO = Student.ROLL_NO;\n",
    "\n",
    "OUTPUT\n",
    "\n",
    "NAME        COURSE_ID\n",
    "RAM           102 \n",
    "SHYAM         156\n",
    "HARI          456\n",
    "JOHN          234\n",
    "MAC           987\n",
    "BOB           143\n",
    "NULL          104\n"
   ]
  },
  {
   "cell_type": "markdown",
   "metadata": {},
   "source": [
    "# FULL JOIN:\n",
    "\n",
    "FULL JOIN: FULL JOIN creates the result-set by combining result of both LEFT JOIN and RIGHT JOIN. The result-set will contain all the rows from both the tables. The rows for which there is no matching, the result-set will contain NULL values.\n",
    "Syntax:\n",
    "\n",
    "SELECT table1.column1,table1.column2,table2.column1,....\n",
    "FROM table1 \n",
    "FULL JOIN table2\n",
    "ON table1.matching_column = table2.matching_column;\n",
    "\n",
    "\n",
    "table1: First table.\n",
    "table2: Second table\n",
    "matching_column: Column common to both the tables.\n",
    "\n",
    "\n",
    "SELECT Student.NAME,StudentCourse.COURSE_ID \n",
    "FROM Student\n",
    "FULL JOIN StudentCourse \n",
    "ON StudentCourse.ROLL_NO = Student.ROLL_NO;\n",
    "\n",
    "\n",
    "      OUTPUT\n",
    "\n",
    "NAME        COURSE_ID\n",
    "RAM           102 \n",
    "SHYAM         156\n",
    "HARI          456\n",
    "JOHN          234\n",
    "MAC           987\n",
    "BOB           143\n",
    "LUSE          NULL\n",
    "NULL          104"
   ]
  }
 ],
 "metadata": {
  "kernelspec": {
   "display_name": "Python 3",
   "language": "python",
   "name": "python3"
  },
  "language_info": {
   "codemirror_mode": {
    "name": "ipython",
    "version": 3
   },
   "file_extension": ".py",
   "mimetype": "text/x-python",
   "name": "python",
   "nbconvert_exporter": "python",
   "pygments_lexer": "ipython3",
   "version": "3.6.5"
  }
 },
 "nbformat": 4,
 "nbformat_minor": 2
}
